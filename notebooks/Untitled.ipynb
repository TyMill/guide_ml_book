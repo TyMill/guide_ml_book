{
 "cells": [
  {
   "cell_type": "code",
   "execution_count": null,
   "id": "33275f98-0cc4-472c-8550-92a34884de71",
   "metadata": {
    "editable": true,
    "slideshow": {
     "slide_type": ""
    },
    "tags": []
   },
   "outputs": [],
   "source": [
    "ml_how_to/\n",
    "├── datasets/\n",
    "│   ├── example.xlsx\n",
    "│   ├── titanic.csv\n",
    "│   └── titanic_sep.csv\n",
    "├── images/\n",
    "│   └── pairplot.png\n",
    "├── notebooks/\n",
    "│   ├── deployment.ipynb\n",
    "│   ├── case_studies.ipynb\n",
    "│   ├── features.ipynb\n",
    "│   ├── ex1.ipynb\n",
    "│   ├── ex2.ipynb\n",
    "│   ├── unsupervised.ipynb\n",
    "│   ├── supervised.ipynb\n",
    "│   ├── Viz.ipynb\n",
    "│   ├── preprocess.ipynb\n",
    "│   ├── import_data_pd.ipynb\n",
    "│   ├── pandas.ipynb\n",
    "│   ├── numpy.ipynb\n",
    "│   └── to_book.ipynb\n",
    "├── scripts/\n",
    "│   ├── script.py\n",
    "│   └── script_2.py\n",
    "├── models/\n",
    "│   └── logistic_model.joblib\n",
    "├── README.md\n",
    "├── requirements.txt\n",
    "└── .gitignore\n"
   ]
  }
 ],
 "metadata": {
  "kernelspec": {
   "display_name": "Python 3 (ipykernel)",
   "language": "python",
   "name": "python3"
  },
  "language_info": {
   "codemirror_mode": {
    "name": "ipython",
    "version": 3
   },
   "file_extension": ".py",
   "mimetype": "text/x-python",
   "name": "python",
   "nbconvert_exporter": "python",
   "pygments_lexer": "ipython3",
   "version": "3.9.13"
  }
 },
 "nbformat": 4,
 "nbformat_minor": 5
}
