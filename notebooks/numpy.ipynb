{
 "cells": [
  {
   "cell_type": "code",
   "execution_count": 7,
   "id": "1fd12142-f370-4305-953e-cdd31f35fad6",
   "metadata": {},
   "outputs": [],
   "source": [
    "import numpy as np\n",
    "array_1d = np.array([1, 2, 3, 4, 5])\n",
    "array_2d = np.array([[1, 2, 3], [4, 5, 6], [7, 8, 9]])"
   ]
  },
  {
   "cell_type": "code",
   "execution_count": 8,
   "id": "b975a683-935e-4cdd-a6a4-2733f9c57603",
   "metadata": {},
   "outputs": [
    {
     "data": {
      "text/plain": [
       "array([1, 2, 3, 4, 5])"
      ]
     },
     "execution_count": 8,
     "metadata": {},
     "output_type": "execute_result"
    }
   ],
   "source": [
    "array_1d"
   ]
  },
  {
   "cell_type": "code",
   "execution_count": 9,
   "id": "66e4594d-2846-4716-b068-2efed0fdc012",
   "metadata": {},
   "outputs": [
    {
     "data": {
      "text/plain": [
       "array([[1, 2, 3],\n",
       "       [4, 5, 6],\n",
       "       [7, 8, 9]])"
      ]
     },
     "execution_count": 9,
     "metadata": {},
     "output_type": "execute_result"
    }
   ],
   "source": [
    "array_2d"
   ]
  },
  {
   "cell_type": "code",
   "execution_count": 10,
   "id": "cda6053c-ffb0-47ae-a7ea-a04306045028",
   "metadata": {},
   "outputs": [],
   "source": [
    "array_range = np.arange(0, 10, 2)"
   ]
  },
  {
   "cell_type": "code",
   "execution_count": 11,
   "id": "d3d79edd-6e04-4dc5-9c74-e34d5b5d4ec6",
   "metadata": {},
   "outputs": [
    {
     "data": {
      "text/plain": [
       "array([0, 2, 4, 6, 8])"
      ]
     },
     "execution_count": 11,
     "metadata": {},
     "output_type": "execute_result"
    }
   ],
   "source": [
    "array_range"
   ]
  },
  {
   "cell_type": "code",
   "execution_count": 13,
   "id": "9a6a309c-aa0f-44e3-9624-aa1d8145f663",
   "metadata": {},
   "outputs": [],
   "source": [
    "array_linspace = np.linspace(0, 1, 5)"
   ]
  },
  {
   "cell_type": "code",
   "execution_count": 14,
   "id": "8e3740de-e270-4fd8-b935-ce74c61ef739",
   "metadata": {},
   "outputs": [
    {
     "data": {
      "text/plain": [
       "array([0.  , 0.25, 0.5 , 0.75, 1.  ])"
      ]
     },
     "execution_count": 14,
     "metadata": {},
     "output_type": "execute_result"
    }
   ],
   "source": [
    "array_linspace"
   ]
  },
  {
   "cell_type": "code",
   "execution_count": 15,
   "id": "74eac9bd-61a6-4a0c-a4c5-e5e92d80e9dc",
   "metadata": {},
   "outputs": [],
   "source": [
    "array_zeros = np.zeros((3, 3))\n",
    "array_ones = np.ones((2, 4))"
   ]
  },
  {
   "cell_type": "code",
   "execution_count": 16,
   "id": "3ab778ab-4d16-4fbe-997d-6a644e1f0729",
   "metadata": {},
   "outputs": [
    {
     "data": {
      "text/plain": [
       "array([[0., 0., 0.],\n",
       "       [0., 0., 0.],\n",
       "       [0., 0., 0.]])"
      ]
     },
     "execution_count": 16,
     "metadata": {},
     "output_type": "execute_result"
    }
   ],
   "source": [
    "array_zeros"
   ]
  },
  {
   "cell_type": "code",
   "execution_count": 17,
   "id": "66d8be89-d3db-4e79-9d26-79e79610fb84",
   "metadata": {},
   "outputs": [
    {
     "data": {
      "text/plain": [
       "array([[1., 1., 1., 1.],\n",
       "       [1., 1., 1., 1.]])"
      ]
     },
     "execution_count": 17,
     "metadata": {},
     "output_type": "execute_result"
    }
   ],
   "source": [
    "array_ones"
   ]
  },
  {
   "cell_type": "code",
   "execution_count": 18,
   "id": "0865294b-caf5-4494-99bc-04d0d7b2310f",
   "metadata": {},
   "outputs": [],
   "source": [
    "array_random = np.random.rand(3, 3)"
   ]
  },
  {
   "cell_type": "code",
   "execution_count": 19,
   "id": "bfe38b87-edfe-4953-88d0-e336e4a86963",
   "metadata": {},
   "outputs": [
    {
     "data": {
      "text/plain": [
       "array([[0.44354917, 0.13141362, 0.76433077],\n",
       "       [0.95292335, 0.16219235, 0.39855966],\n",
       "       [0.23217   , 0.34860019, 0.07263158]])"
      ]
     },
     "execution_count": 19,
     "metadata": {},
     "output_type": "execute_result"
    }
   ],
   "source": [
    "array_random"
   ]
  },
  {
   "cell_type": "code",
   "execution_count": 20,
   "id": "3c263b01-4122-4269-901d-d4b2543da417",
   "metadata": {},
   "outputs": [],
   "source": [
    "array_a = np.array([1, 2, 3])\n",
    "array_b = np.array([4, 5, 6])\n",
    "sum_array = array_a + array_b\n",
    "diff_array = array_b - array_a"
   ]
  },
  {
   "cell_type": "code",
   "execution_count": 21,
   "id": "b5e87647-38f2-4c76-ad01-6f4691730231",
   "metadata": {},
   "outputs": [
    {
     "data": {
      "text/plain": [
       "array([5, 7, 9])"
      ]
     },
     "execution_count": 21,
     "metadata": {},
     "output_type": "execute_result"
    }
   ],
   "source": [
    "sum_array"
   ]
  },
  {
   "cell_type": "code",
   "execution_count": 22,
   "id": "b8fe0563-54d6-476b-bcfb-9276941b9fc7",
   "metadata": {},
   "outputs": [
    {
     "data": {
      "text/plain": [
       "array([3, 3, 3])"
      ]
     },
     "execution_count": 22,
     "metadata": {},
     "output_type": "execute_result"
    }
   ],
   "source": [
    "diff_array"
   ]
  },
  {
   "cell_type": "code",
   "execution_count": 23,
   "id": "0d43b704-3268-43ae-8e88-5d6f604ce802",
   "metadata": {},
   "outputs": [],
   "source": [
    "product_array = array_a * array_b\n",
    "quotient_array = array_b / array_a"
   ]
  },
  {
   "cell_type": "code",
   "execution_count": 24,
   "id": "5c56f4d6-fcf3-4ab7-a8b4-9508060b6672",
   "metadata": {},
   "outputs": [
    {
     "data": {
      "text/plain": [
       "array([ 4, 10, 18])"
      ]
     },
     "execution_count": 24,
     "metadata": {},
     "output_type": "execute_result"
    }
   ],
   "source": [
    "product_array"
   ]
  },
  {
   "cell_type": "code",
   "execution_count": 25,
   "id": "ad5c8516-084d-4de5-b55c-3146c187219f",
   "metadata": {},
   "outputs": [
    {
     "data": {
      "text/plain": [
       "array([4. , 2.5, 2. ])"
      ]
     },
     "execution_count": 25,
     "metadata": {},
     "output_type": "execute_result"
    }
   ],
   "source": [
    "quotient_array"
   ]
  },
  {
   "cell_type": "code",
   "execution_count": 27,
   "id": "3f56e3dd-9677-425a-82cd-522e7ffbd84b",
   "metadata": {},
   "outputs": [],
   "source": [
    "scaled_array = array_a * 2\n",
    "offset_array = array_a + 10"
   ]
  },
  {
   "cell_type": "code",
   "execution_count": 28,
   "id": "c2dbfb2c-e851-480a-870d-6971528c527d",
   "metadata": {},
   "outputs": [
    {
     "data": {
      "text/plain": [
       "array([1, 2, 3])"
      ]
     },
     "execution_count": 28,
     "metadata": {},
     "output_type": "execute_result"
    }
   ],
   "source": [
    "array_a"
   ]
  },
  {
   "cell_type": "code",
   "execution_count": 29,
   "id": "8b4c37cd-4f39-40e4-b5e4-72de980639e6",
   "metadata": {},
   "outputs": [
    {
     "data": {
      "text/plain": [
       "array([2, 4, 6])"
      ]
     },
     "execution_count": 29,
     "metadata": {},
     "output_type": "execute_result"
    }
   ],
   "source": [
    "scaled_array"
   ]
  },
  {
   "cell_type": "code",
   "execution_count": 30,
   "id": "025c6012-c1bd-4ad1-9c1e-2759a20ed025",
   "metadata": {},
   "outputs": [
    {
     "data": {
      "text/plain": [
       "array([11, 12, 13])"
      ]
     },
     "execution_count": 30,
     "metadata": {},
     "output_type": "execute_result"
    }
   ],
   "source": [
    "offset_array"
   ]
  },
  {
   "cell_type": "code",
   "execution_count": 31,
   "id": "2a92cbd1-2389-4e9a-91fe-da738ed217e8",
   "metadata": {},
   "outputs": [],
   "source": [
    "angles = np.array([0, np.pi/2, np.pi])\n",
    "sin_values = np.sin(angles)"
   ]
  },
  {
   "cell_type": "code",
   "execution_count": 32,
   "id": "b07715ed-f76d-4ff2-8383-d76c40421497",
   "metadata": {},
   "outputs": [
    {
     "data": {
      "text/plain": [
       "array([0.        , 1.57079633, 3.14159265])"
      ]
     },
     "execution_count": 32,
     "metadata": {},
     "output_type": "execute_result"
    }
   ],
   "source": [
    "angles"
   ]
  },
  {
   "cell_type": "code",
   "execution_count": 33,
   "id": "cd17d402-0760-405b-8e9b-c6fec9e36c59",
   "metadata": {},
   "outputs": [
    {
     "data": {
      "text/plain": [
       "array([0.0000000e+00, 1.0000000e+00, 1.2246468e-16])"
      ]
     },
     "execution_count": 33,
     "metadata": {},
     "output_type": "execute_result"
    }
   ],
   "source": [
    "sin_values"
   ]
  },
  {
   "cell_type": "code",
   "execution_count": 34,
   "id": "d4d28046-178f-4aa5-bf11-24c8aad7623f",
   "metadata": {},
   "outputs": [],
   "source": [
    "array_exp = np.exp(array_a)\n",
    "array_log = np.log(array_b)"
   ]
  },
  {
   "cell_type": "code",
   "execution_count": 37,
   "id": "239c19a2-92cb-479a-b822-3509c8f35086",
   "metadata": {},
   "outputs": [
    {
     "data": {
      "text/plain": [
       "array([ 2.71828183,  7.3890561 , 20.08553692])"
      ]
     },
     "execution_count": 37,
     "metadata": {},
     "output_type": "execute_result"
    }
   ],
   "source": [
    "array_exp"
   ]
  },
  {
   "cell_type": "code",
   "execution_count": 36,
   "id": "20eb6813-aec9-46ad-b394-078aecc0f60e",
   "metadata": {},
   "outputs": [
    {
     "data": {
      "text/plain": [
       "array([1.38629436, 1.60943791, 1.79175947])"
      ]
     },
     "execution_count": 36,
     "metadata": {},
     "output_type": "execute_result"
    }
   ],
   "source": [
    "array_log"
   ]
  },
  {
   "cell_type": "code",
   "execution_count": 38,
   "id": "bae1d554-a905-4774-900e-0c26fcc811c8",
   "metadata": {},
   "outputs": [],
   "source": [
    "total = np.sum(array_a)\n",
    "average = np.mean(array_a)\n",
    "std_dev = np.std(array_a)\n",
    "maximum = np.max(array_a)"
   ]
  },
  {
   "cell_type": "code",
   "execution_count": 39,
   "id": "7f4acaaf-2f3c-4186-8442-f4d4ed1a82d9",
   "metadata": {},
   "outputs": [
    {
     "data": {
      "text/plain": [
       "6"
      ]
     },
     "execution_count": 39,
     "metadata": {},
     "output_type": "execute_result"
    }
   ],
   "source": [
    "total"
   ]
  },
  {
   "cell_type": "code",
   "execution_count": 40,
   "id": "31de1a2c-e8c0-42d4-84d2-1ebfd7421fcd",
   "metadata": {},
   "outputs": [
    {
     "data": {
      "text/plain": [
       "2.0"
      ]
     },
     "execution_count": 40,
     "metadata": {},
     "output_type": "execute_result"
    }
   ],
   "source": [
    "average"
   ]
  },
  {
   "cell_type": "code",
   "execution_count": 41,
   "id": "1fdd56e7-96d3-46ac-93ee-c6ae506e39f1",
   "metadata": {},
   "outputs": [
    {
     "data": {
      "text/plain": [
       "0.816496580927726"
      ]
     },
     "execution_count": 41,
     "metadata": {},
     "output_type": "execute_result"
    }
   ],
   "source": [
    "std_dev"
   ]
  },
  {
   "cell_type": "code",
   "execution_count": 42,
   "id": "b32a3561-fa6c-41ce-8239-4420ee2a8832",
   "metadata": {},
   "outputs": [
    {
     "data": {
      "text/plain": [
       "3"
      ]
     },
     "execution_count": 42,
     "metadata": {},
     "output_type": "execute_result"
    }
   ],
   "source": [
    "maximum"
   ]
  },
  {
   "cell_type": "code",
   "execution_count": 44,
   "id": "ded6aba0-43c8-46f4-ae26-7ed443d4ebab",
   "metadata": {},
   "outputs": [],
   "source": [
    "element = array_1d[2]"
   ]
  },
  {
   "cell_type": "code",
   "execution_count": 45,
   "id": "002fa94a-794a-411c-8432-931809352916",
   "metadata": {},
   "outputs": [
    {
     "data": {
      "text/plain": [
       "3"
      ]
     },
     "execution_count": 45,
     "metadata": {},
     "output_type": "execute_result"
    }
   ],
   "source": [
    "element"
   ]
  },
  {
   "cell_type": "code",
   "execution_count": 46,
   "id": "3fac5682-ec00-4574-871d-e2e045e397d3",
   "metadata": {},
   "outputs": [],
   "source": [
    "first_row = array_2d[0, :]\n",
    "first_column = array_2d[:, 0]"
   ]
  },
  {
   "cell_type": "code",
   "execution_count": 47,
   "id": "023b7d7f-2ed0-425a-af28-91fe2351f525",
   "metadata": {},
   "outputs": [
    {
     "data": {
      "text/plain": [
       "array([1, 2, 3])"
      ]
     },
     "execution_count": 47,
     "metadata": {},
     "output_type": "execute_result"
    }
   ],
   "source": [
    "first_row"
   ]
  },
  {
   "cell_type": "code",
   "execution_count": 48,
   "id": "1d7c40fe-3063-49e8-8eed-bfa157fbd41a",
   "metadata": {},
   "outputs": [
    {
     "data": {
      "text/plain": [
       "array([1, 4, 7])"
      ]
     },
     "execution_count": 48,
     "metadata": {},
     "output_type": "execute_result"
    }
   ],
   "source": [
    "first_column"
   ]
  },
  {
   "cell_type": "code",
   "execution_count": 49,
   "id": "0e73e4d6-4ec8-432e-831f-5d8c23843b24",
   "metadata": {},
   "outputs": [],
   "source": [
    "bool_index = array_1d > 2\n",
    "filtered_array = array_1d[bool_index]"
   ]
  },
  {
   "cell_type": "code",
   "execution_count": 51,
   "id": "a5ba7a34-0ec9-4660-887e-7cecd3b4da78",
   "metadata": {},
   "outputs": [
    {
     "data": {
      "text/plain": [
       "array([False, False,  True,  True,  True])"
      ]
     },
     "execution_count": 51,
     "metadata": {},
     "output_type": "execute_result"
    }
   ],
   "source": [
    "bool_index"
   ]
  },
  {
   "cell_type": "code",
   "execution_count": 52,
   "id": "64fe1863-15e3-4eb5-b786-7679bdc26ebc",
   "metadata": {},
   "outputs": [
    {
     "data": {
      "text/plain": [
       "array([3, 4, 5])"
      ]
     },
     "execution_count": 52,
     "metadata": {},
     "output_type": "execute_result"
    }
   ],
   "source": [
    "filtered_array"
   ]
  },
  {
   "cell_type": "code",
   "execution_count": 53,
   "id": "37f397b3-6956-4a35-babf-277014854b1f",
   "metadata": {},
   "outputs": [],
   "source": [
    "indices = [0, 2, 4]\n",
    "fancy_indexed_array = array_1d[indices]"
   ]
  },
  {
   "cell_type": "code",
   "execution_count": 54,
   "id": "db46bfc5-ee67-42b3-980e-9dfbe7403a67",
   "metadata": {},
   "outputs": [
    {
     "data": {
      "text/plain": [
       "array([1, 3, 5])"
      ]
     },
     "execution_count": 54,
     "metadata": {},
     "output_type": "execute_result"
    }
   ],
   "source": [
    "fancy_indexed_array"
   ]
  },
  {
   "cell_type": "code",
   "execution_count": 55,
   "id": "b621bb65-35d4-4b0b-9fb7-ae6371468b4d",
   "metadata": {},
   "outputs": [],
   "source": [
    "sliced_array = array_1d[1:4]"
   ]
  },
  {
   "cell_type": "code",
   "execution_count": 56,
   "id": "6b64a7e2-19ad-4a42-97f6-c61fbe297c1b",
   "metadata": {},
   "outputs": [
    {
     "data": {
      "text/plain": [
       "array([1, 2, 3, 4, 5])"
      ]
     },
     "execution_count": 56,
     "metadata": {},
     "output_type": "execute_result"
    }
   ],
   "source": [
    "array_1d"
   ]
  },
  {
   "cell_type": "code",
   "execution_count": 57,
   "id": "cdf1db62-6129-4fe3-a461-81959e303eee",
   "metadata": {},
   "outputs": [
    {
     "data": {
      "text/plain": [
       "array([2, 3, 4])"
      ]
     },
     "execution_count": 57,
     "metadata": {},
     "output_type": "execute_result"
    }
   ],
   "source": [
    "sliced_array"
   ]
  },
  {
   "cell_type": "code",
   "execution_count": 58,
   "id": "5662f837-9232-4060-9b9f-01d3741571d6",
   "metadata": {},
   "outputs": [],
   "source": [
    "sliced_2d_array = array_2d[0:2, 1:3]"
   ]
  },
  {
   "cell_type": "code",
   "execution_count": 59,
   "id": "9f043e4c-5189-4b73-a25c-bc31e52a3933",
   "metadata": {},
   "outputs": [
    {
     "data": {
      "text/plain": [
       "array([[1, 2, 3],\n",
       "       [4, 5, 6],\n",
       "       [7, 8, 9]])"
      ]
     },
     "execution_count": 59,
     "metadata": {},
     "output_type": "execute_result"
    }
   ],
   "source": [
    "array_2d"
   ]
  },
  {
   "cell_type": "code",
   "execution_count": 60,
   "id": "16db2ac8-847b-49b4-9a61-6d7eddf83c7a",
   "metadata": {},
   "outputs": [
    {
     "data": {
      "text/plain": [
       "array([[2, 3],\n",
       "       [5, 6]])"
      ]
     },
     "execution_count": 60,
     "metadata": {},
     "output_type": "execute_result"
    }
   ],
   "source": [
    "sliced_2d_array"
   ]
  },
  {
   "cell_type": "code",
   "execution_count": 61,
   "id": "96526640-fef5-4c0e-b645-4037e53e6042",
   "metadata": {},
   "outputs": [
    {
     "name": "stdout",
     "output_type": "stream",
     "text": [
      "Sum of squares: 47.39612994558326\n",
      "Mean of squares: 0.4739612994558326\n"
     ]
    },
    {
     "data": {
      "image/png": "[encoded data removed]",
      "text/plain": [
       "<Figure size 1000x500 with 1 Axes>"
      ]
     },
     "metadata": {},
     "output_type": "display_data"
    }
   ],
   "source": [
    "import numpy as np\n",
    "import matplotlib.pyplot as plt\n",
    "\n",
    "# Creating arrays\n",
    "x = np.linspace(0, 10, 100)\n",
    "y = np.sin(x)\n",
    "\n",
    "# Performing mathematical operations\n",
    "y_squared = y ** 2\n",
    "y_sum = np.sum(y_squared)\n",
    "y_mean = np.mean(y_squared)\n",
    "\n",
    "# Displaying results\n",
    "print(f\"Sum of squares: {y_sum}\")\n",
    "print(f\"Mean of squares: {y_mean}\")\n",
    "\n",
    "# Plotting the results\n",
    "plt.figure(figsize=(10, 5))\n",
    "plt.plot(x, y, label='sin(x)')\n",
    "plt.plot(x, y_squared, label='sin(x)^2')\n",
    "plt.title('Sin(x) and its Square')\n",
    "plt.xlabel('x')\n",
    "plt.ylabel('y')\n",
    "plt.legend()\n",
    "plt.show()"
   ]
  },
  {
   "cell_type": "code",
   "execution_count": null,
   "id": "0334da2d-ce95-4032-a7e8-14f3d347f912",
   "metadata": {},
   "outputs": [],
   "source": []
  }
 ],
 "metadata": {
  "kernelspec": {
   "display_name": "Python 3 (ipykernel)",
   "language": "python",
   "name": "python3"
  },
  "language_info": {
   "codemirror_mode": {
    "name": "ipython",
    "version": 3
   },
   "file_extension": ".py",
   "mimetype": "text/x-python",
   "name": "python",
   "nbconvert_exporter": "python",
   "pygments_lexer": "ipython3",
   "version": "3.9.13"
  }
 },
 "nbformat": 4,
 "nbformat_minor": 5
}
