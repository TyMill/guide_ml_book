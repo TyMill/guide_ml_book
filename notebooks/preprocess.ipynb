{
 "cells": [
  {
   "cell_type": "code",
   "execution_count": 1,
   "id": "3ba6838e-1ec1-47f9-8ea7-bef8706562cd",
   "metadata": {},
   "outputs": [
    {
     "name": "stdout",
     "output_type": "stream",
     "text": [
      "      Name   Age      City   Salary\n",
      "0    Alice  24.0  New York  50000.0\n",
      "1      Bob  27.0      None  60000.0\n",
      "2  Charlie   NaN   Chicago  45000.0\n",
      "3    David  32.0   Houston      NaN\n",
      "4      Eva  28.0   Phoenix  65000.0\n",
      "Name      0\n",
      "Age       1\n",
      "City      1\n",
      "Salary    1\n",
      "dtype: int64\n"
     ]
    }
   ],
   "source": [
    "import pandas as pd\n",
    "\n",
    "# Example DataFrame with missing values\n",
    "data = {\n",
    "    'Name': ['Alice', 'Bob', 'Charlie', 'David', 'Eva'],\n",
    "    'Age': [24, 27, None, 32, 28],\n",
    "    'City': ['New York', None, 'Chicago', 'Houston', 'Phoenix'],\n",
    "    'Salary': [50000, 60000, 45000, None, 65000]\n",
    "}\n",
    "\n",
    "df = pd.DataFrame(data)\n",
    "print(df)\n",
    "\n",
    "# Checking for missing values\n",
    "print(df.isnull().sum())"
   ]
  },
  {
   "cell_type": "code",
   "execution_count": 2,
   "id": "02d50e7d-b6e6-4275-a573-59af807bb0b4",
   "metadata": {},
   "outputs": [
    {
     "name": "stdout",
     "output_type": "stream",
     "text": [
      "    Name   Age      City   Salary\n",
      "0  Alice  24.0  New York  50000.0\n",
      "4    Eva  28.0   Phoenix  65000.0\n",
      "      Name\n",
      "0    Alice\n",
      "1      Bob\n",
      "2  Charlie\n",
      "3    David\n",
      "4      Eva\n"
     ]
    }
   ],
   "source": [
    "# Dropping rows with any missing values\n",
    "df_dropped_rows = df.dropna()\n",
    "print(df_dropped_rows)\n",
    "\n",
    "# Dropping columns with any missing values\n",
    "df_dropped_columns = df.dropna(axis=1)\n",
    "print(df_dropped_columns)"
   ]
  },
  {
   "cell_type": "code",
   "execution_count": 3,
   "id": "767c6f2c-3dac-4082-8c97-817080960b09",
   "metadata": {},
   "outputs": [
    {
     "name": "stdout",
     "output_type": "stream",
     "text": [
      "      Name      Age      City   Salary\n",
      "0    Alice     24.0  New York  50000.0\n",
      "1      Bob     27.0   Unknown  60000.0\n",
      "2  Charlie  Unknown   Chicago  45000.0\n",
      "3    David     32.0   Houston  Unknown\n",
      "4      Eva     28.0   Phoenix  65000.0\n",
      "      Name    Age      City   Salary\n",
      "0    Alice  24.00  New York  50000.0\n",
      "1      Bob  27.00   Chicago  60000.0\n",
      "2  Charlie  27.75   Chicago  45000.0\n",
      "3    David  32.00   Houston  55000.0\n",
      "4      Eva  28.00   Phoenix  65000.0\n"
     ]
    },
    {
     "name": "stderr",
     "output_type": "stream",
     "text": [
      "/var/folders/7w/sg2q3cq96nqcxgv43qqgm09r0000gr/T/ipykernel_31967/36760080.py:6: FutureWarning: A value is trying to be set on a copy of a DataFrame or Series through chained assignment using an inplace method.\n",
      "The behavior will change in pandas 3.0. This inplace method will never work because the intermediate object on which we are setting values always behaves as a copy.\n",
      "\n",
      "For example, when doing 'df[col].method(value, inplace=True)', try using 'df.method({col: value}, inplace=True)' or df[col] = df[col].method(value) instead, to perform the operation inplace on the original object.\n",
      "\n",
      "\n",
      "  df['Age'].fillna(df['Age'].mean(), inplace=True)\n",
      "/var/folders/7w/sg2q3cq96nqcxgv43qqgm09r0000gr/T/ipykernel_31967/36760080.py:7: FutureWarning: A value is trying to be set on a copy of a DataFrame or Series through chained assignment using an inplace method.\n",
      "The behavior will change in pandas 3.0. This inplace method will never work because the intermediate object on which we are setting values always behaves as a copy.\n",
      "\n",
      "For example, when doing 'df[col].method(value, inplace=True)', try using 'df.method({col: value}, inplace=True)' or df[col] = df[col].method(value) instead, to perform the operation inplace on the original object.\n",
      "\n",
      "\n",
      "  df['Salary'].fillna(df['Salary'].mean(), inplace=True)\n",
      "/var/folders/7w/sg2q3cq96nqcxgv43qqgm09r0000gr/T/ipykernel_31967/36760080.py:8: FutureWarning: A value is trying to be set on a copy of a DataFrame or Series through chained assignment using an inplace method.\n",
      "The behavior will change in pandas 3.0. This inplace method will never work because the intermediate object on which we are setting values always behaves as a copy.\n",
      "\n",
      "For example, when doing 'df[col].method(value, inplace=True)', try using 'df.method({col: value}, inplace=True)' or df[col] = df[col].method(value) instead, to perform the operation inplace on the original object.\n",
      "\n",
      "\n",
      "  df['City'].fillna(df['City'].mode()[0], inplace=True)\n"
     ]
    }
   ],
   "source": [
    "# Filling missing values with a specified value\n",
    "df_filled_value = df.fillna('Unknown')\n",
    "print(df_filled_value)\n",
    "\n",
    "# Filling missing values with the mean of the column\n",
    "df['Age'].fillna(df['Age'].mean(), inplace=True)\n",
    "df['Salary'].fillna(df['Salary'].mean(), inplace=True)\n",
    "df['City'].fillna(df['City'].mode()[0], inplace=True)\n",
    "print(df)"
   ]
  },
  {
   "cell_type": "code",
   "execution_count": 4,
   "id": "990756a4-309b-40c2-946a-cbc8a2088139",
   "metadata": {},
   "outputs": [
    {
     "name": "stdout",
     "output_type": "stream",
     "text": [
      "      Name  Age         City\n",
      "0    Alice   24     New York\n",
      "1      Bob   27  Los Angeles\n",
      "2  Charlie   22      Chicago\n",
      "3    David   32      Houston\n",
      "4      Eva   28      Phoenix\n",
      "5    Alice   24     New York\n",
      "0    False\n",
      "1    False\n",
      "2    False\n",
      "3    False\n",
      "4    False\n",
      "5     True\n",
      "dtype: bool\n"
     ]
    }
   ],
   "source": [
    "# Example DataFrame with duplicates\n",
    "data = {\n",
    "    'Name': ['Alice', 'Bob', 'Charlie', 'David', 'Eva', 'Alice'],\n",
    "    'Age': [24, 27, 22, 32, 28, 24],\n",
    "    'City': ['New York', 'Los Angeles', 'Chicago', 'Houston', 'Phoenix', 'New York']\n",
    "}\n",
    "\n",
    "df = pd.DataFrame(data)\n",
    "print(df)\n",
    "\n",
    "# Checking for duplicate rows\n",
    "print(df.duplicated())"
   ]
  },
  {
   "cell_type": "code",
   "execution_count": 5,
   "id": "3856c4cf-f8ab-406b-bf72-20e2f76942e3",
   "metadata": {},
   "outputs": [
    {
     "name": "stdout",
     "output_type": "stream",
     "text": [
      "      Name  Age         City\n",
      "0    Alice   24     New York\n",
      "1      Bob   27  Los Angeles\n",
      "2  Charlie   22      Chicago\n",
      "3    David   32      Houston\n",
      "4      Eva   28      Phoenix\n"
     ]
    }
   ],
   "source": [
    "# Removing duplicate rows\n",
    "df_no_duplicates = df.drop_duplicates()\n",
    "print(df_no_duplicates)"
   ]
  },
  {
   "cell_type": "code",
   "execution_count": 6,
   "id": "83e3d36d-29fb-49ce-9ff1-116396c8c5ce",
   "metadata": {},
   "outputs": [
    {
     "name": "stdout",
     "output_type": "stream",
     "text": [
      "Name      object\n",
      "Age       object\n",
      "Salary     int64\n",
      "dtype: object\n",
      "Name      object\n",
      "Age        int64\n",
      "Salary     int64\n",
      "dtype: object\n",
      "Name       object\n",
      "Age         int64\n",
      "Salary    float64\n",
      "dtype: object\n"
     ]
    }
   ],
   "source": [
    "# Example DataFrame with mixed data types\n",
    "data = {\n",
    "    'Name': ['Alice', 'Bob', 'Charlie', 'David', 'Eva'],\n",
    "    'Age': ['24', '27', '22', '32', '28'],  # Age as string\n",
    "    'Salary': [50000, 60000, 45000, 70000, 65000]\n",
    "}\n",
    "\n",
    "df = pd.DataFrame(data)\n",
    "print(df.dtypes)\n",
    "\n",
    "# Converting Age from string to integer\n",
    "df['Age'] = df['Age'].astype(int)\n",
    "print(df.dtypes)\n",
    "\n",
    "# Converting Salary from integer to float\n",
    "df['Salary'] = df['Salary'].astype(float)\n",
    "print(df.dtypes)\n"
   ]
  },
  {
   "cell_type": "code",
   "execution_count": 7,
   "id": "fcd0ce38-7b28-415f-802a-1d51d11b25a4",
   "metadata": {},
   "outputs": [
    {
     "name": "stdout",
     "output_type": "stream",
     "text": [
      "Initial DataFrame:\n",
      "      Name   Age      City   Salary\n",
      "0    Alice    24  New York  50000.0\n",
      "1      Bob    27      None  60000.0\n",
      "2  Charlie  None   Chicago  45000.0\n",
      "3    David    32   Houston      NaN\n",
      "4      Eva    28   Phoenix  65000.0\n",
      "5    Alice    24  New York  50000.0\n"
     ]
    }
   ],
   "source": [
    "import pandas as pd\n",
    "\n",
    "# Creating a messy DataFrame\n",
    "data = {\n",
    "    'Name': ['Alice', 'Bob', 'Charlie', 'David', 'Eva', 'Alice'],\n",
    "    'Age': ['24', '27', None, '32', '28', '24'],\n",
    "    'City': ['New York', None, 'Chicago', 'Houston', 'Phoenix', 'New York'],\n",
    "    'Salary': [50000, 60000, 45000, None, 65000, 50000]\n",
    "}\n",
    "\n",
    "df = pd.DataFrame(data)\n",
    "print(\"Initial DataFrame:\")\n",
    "print(df)\n"
   ]
  },
  {
   "cell_type": "code",
   "execution_count": 10,
   "id": "a811dc8e-4655-44e9-83d4-68091146b0bd",
   "metadata": {},
   "outputs": [
    {
     "name": "stdout",
     "output_type": "stream",
     "text": [
      "      Name   Age      City   Salary\n",
      "0    Alice  24.0  New York  50000.0\n",
      "1      Bob  27.0   Unknown  60000.0\n",
      "2  Charlie  27.0   Chicago  45000.0\n",
      "3    David  32.0   Houston  54000.0\n",
      "4      Eva  28.0   Phoenix  65000.0\n",
      "5    Alice  24.0  New York  50000.0\n"
     ]
    },
    {
     "name": "stderr",
     "output_type": "stream",
     "text": [
      "/var/folders/7w/sg2q3cq96nqcxgv43qqgm09r0000gr/T/ipykernel_31967/1497769177.py:5: FutureWarning: A value is trying to be set on a copy of a DataFrame or Series through chained assignment using an inplace method.\n",
      "The behavior will change in pandas 3.0. This inplace method will never work because the intermediate object on which we are setting values always behaves as a copy.\n",
      "\n",
      "For example, when doing 'df[col].method(value, inplace=True)', try using 'df.method({col: value}, inplace=True)' or df[col] = df[col].method(value) instead, to perform the operation inplace on the original object.\n",
      "\n",
      "\n",
      "  df['Age'].fillna(df['Age'].mean(), inplace=True)\n",
      "/var/folders/7w/sg2q3cq96nqcxgv43qqgm09r0000gr/T/ipykernel_31967/1497769177.py:8: FutureWarning: A value is trying to be set on a copy of a DataFrame or Series through chained assignment using an inplace method.\n",
      "The behavior will change in pandas 3.0. This inplace method will never work because the intermediate object on which we are setting values always behaves as a copy.\n",
      "\n",
      "For example, when doing 'df[col].method(value, inplace=True)', try using 'df.method({col: value}, inplace=True)' or df[col] = df[col].method(value) instead, to perform the operation inplace on the original object.\n",
      "\n",
      "\n",
      "  df['Salary'].fillna(df['Salary'].mean(), inplace=True)\n",
      "/var/folders/7w/sg2q3cq96nqcxgv43qqgm09r0000gr/T/ipykernel_31967/1497769177.py:11: FutureWarning: A value is trying to be set on a copy of a DataFrame or Series through chained assignment using an inplace method.\n",
      "The behavior will change in pandas 3.0. This inplace method will never work because the intermediate object on which we are setting values always behaves as a copy.\n",
      "\n",
      "For example, when doing 'df[col].method(value, inplace=True)', try using 'df.method({col: value}, inplace=True)' or df[col] = df[col].method(value) instead, to perform the operation inplace on the original object.\n",
      "\n",
      "\n",
      "  df['City'].fillna('Unknown', inplace=True)\n"
     ]
    }
   ],
   "source": [
    "# Convert 'Age' column to numeric, forcing errors to NaN\n",
    "df['Age'] = pd.to_numeric(df['Age'], errors='coerce')\n",
    "\n",
    "# Fill missing values in 'Age' with the mean of the column\n",
    "df['Age'].fillna(df['Age'].mean(), inplace=True)\n",
    "\n",
    "# Fill missing values in 'Salary' with the mean of the column\n",
    "df['Salary'].fillna(df['Salary'].mean(), inplace=True)\n",
    "\n",
    "# Fill missing values in 'City' with 'Unknown'\n",
    "df['City'].fillna('Unknown', inplace=True)\n",
    "\n",
    "# Display the DataFrame\n",
    "print(df)"
   ]
  },
  {
   "cell_type": "code",
   "execution_count": 11,
   "id": "b3c0f872-a7f4-4704-9c71-3c39c0bc0235",
   "metadata": {},
   "outputs": [
    {
     "name": "stdout",
     "output_type": "stream",
     "text": [
      "\n",
      "DataFrame after removing duplicates:\n",
      "      Name   Age      City   Salary\n",
      "0    Alice  24.0  New York  50000.0\n",
      "1      Bob  27.0   Unknown  60000.0\n",
      "2  Charlie  27.0   Chicago  45000.0\n",
      "3    David  32.0   Houston  54000.0\n",
      "4      Eva  28.0   Phoenix  65000.0\n"
     ]
    }
   ],
   "source": [
    "# Removing duplicate rows\n",
    "df.drop_duplicates(inplace=True)\n",
    "\n",
    "print(\"\\nDataFrame after removing duplicates:\")\n",
    "print(df)"
   ]
  },
  {
   "cell_type": "code",
   "execution_count": 12,
   "id": "679edf53-e665-4460-8872-21fd2834ae34",
   "metadata": {},
   "outputs": [
    {
     "name": "stdout",
     "output_type": "stream",
     "text": [
      "\n",
      "DataFrame after converting data types:\n",
      "      Name   Age      City   Salary\n",
      "0    Alice  24.0  New York  50000.0\n",
      "1      Bob  27.0   Unknown  60000.0\n",
      "2  Charlie  27.0   Chicago  45000.0\n",
      "3    David  32.0   Houston  54000.0\n",
      "4      Eva  28.0   Phoenix  65000.0\n",
      "Name       object\n",
      "Age       float64\n",
      "City       object\n",
      "Salary    float64\n",
      "dtype: object\n"
     ]
    }
   ],
   "source": [
    "# Converting data types\n",
    "df['Age'] = df['Age'].astype(float)\n",
    "df['Salary'] = df['Salary'].astype(float)\n",
    "print(\"\\nDataFrame after converting data types:\")\n",
    "print(df)\n",
    "print(df.dtypes)"
   ]
  },
  {
   "cell_type": "code",
   "execution_count": 13,
   "id": "82c060e9-1ae4-4c49-864d-9e061908629b",
   "metadata": {},
   "outputs": [
    {
     "name": "stdout",
     "output_type": "stream",
     "text": [
      "Original DataFrame:\n",
      "   Feature1  Feature2\n",
      "0        10       100\n",
      "1        20       200\n",
      "2        30       300\n",
      "3        40       400\n",
      "4        50       500\n",
      "\n",
      "Scaled DataFrame:\n",
      "   Feature1  Feature2\n",
      "0      0.00      0.00\n",
      "1      0.25      0.25\n",
      "2      0.50      0.50\n",
      "3      0.75      0.75\n",
      "4      1.00      1.00\n"
     ]
    }
   ],
   "source": [
    "import pandas as pd\n",
    "from sklearn.preprocessing import MinMaxScaler\n",
    "\n",
    "# Example DataFrame\n",
    "data = {\n",
    "    'Feature1': [10, 20, 30, 40, 50],\n",
    "    'Feature2': [100, 200, 300, 400, 500]\n",
    "}\n",
    "\n",
    "df = pd.DataFrame(data)\n",
    "print(\"Original DataFrame:\")\n",
    "print(df)\n",
    "\n",
    "# Applying Min-Max Scaling\n",
    "scaler = MinMaxScaler()\n",
    "df_scaled = pd.DataFrame(scaler.fit_transform(df), columns=df.columns)\n",
    "print(\"\\nScaled DataFrame:\")\n",
    "print(df_scaled)\n"
   ]
  },
  {
   "cell_type": "code",
   "execution_count": 14,
   "id": "34ff12eb-e953-41fc-b413-1321957dffdb",
   "metadata": {},
   "outputs": [
    {
     "name": "stdout",
     "output_type": "stream",
     "text": [
      "\n",
      "Normalized DataFrame:\n",
      "   Feature1  Feature2\n",
      "0 -1.414214 -1.414214\n",
      "1 -0.707107 -0.707107\n",
      "2  0.000000  0.000000\n",
      "3  0.707107  0.707107\n",
      "4  1.414214  1.414214\n"
     ]
    }
   ],
   "source": [
    "from sklearn.preprocessing import StandardScaler\n",
    "\n",
    "# Applying Z-score Normalization\n",
    "scaler = StandardScaler()\n",
    "df_normalized = pd.DataFrame(scaler.fit_transform(df), columns=df.columns)\n",
    "print(\"\\nNormalized DataFrame:\")\n",
    "print(df_normalized)\n"
   ]
  },
  {
   "cell_type": "code",
   "execution_count": 16,
   "id": "d806fa90-ee5e-4b99-b603-bf9a36cad9db",
   "metadata": {},
   "outputs": [
    {
     "name": "stdout",
     "output_type": "stream",
     "text": [
      "Original DataFrame:\n",
      "   Color Size\n",
      "0    Red    S\n",
      "1  Green    M\n",
      "2   Blue    L\n",
      "3  Green    M\n",
      "4    Red    S\n",
      "\n",
      "One-Hot Encoded DataFrame:\n",
      "   Color_Blue  Color_Green  Color_Red  Size_L  Size_M  Size_S\n",
      "0         0.0          0.0        1.0     0.0     0.0     1.0\n",
      "1         0.0          1.0        0.0     0.0     1.0     0.0\n",
      "2         1.0          0.0        0.0     1.0     0.0     0.0\n",
      "3         0.0          1.0        0.0     0.0     1.0     0.0\n",
      "4         0.0          0.0        1.0     0.0     0.0     1.0\n"
     ]
    }
   ],
   "source": [
    "from sklearn.preprocessing import OneHotEncoder\n",
    "import pandas as pd\n",
    "\n",
    "# Example DataFrame with categorical data\n",
    "data = {\n",
    "    'Color': ['Red', 'Green', 'Blue', 'Green', 'Red'],\n",
    "    'Size': ['S', 'M', 'L', 'M', 'S']\n",
    "}\n",
    "\n",
    "df = pd.DataFrame(data)\n",
    "print(\"Original DataFrame:\")\n",
    "print(df)\n",
    "\n",
    "# Applying One-Hot Encoding\n",
    "encoder = OneHotEncoder(sparse_output=False)\n",
    "encoded_data = encoder.fit_transform(df[['Color', 'Size']])\n",
    "df_encoded = pd.DataFrame(encoded_data, \n",
    "                          columns=encoder.get_feature_names_out(['Color', 'Size']))\n",
    "print(\"\\nOne-Hot Encoded DataFrame:\")\n",
    "print(df_encoded)\n"
   ]
  },
  {
   "cell_type": "code",
   "execution_count": 17,
   "id": "b0dcbe83-1130-404d-92a1-1511c20fc8b3",
   "metadata": {},
   "outputs": [
    {
     "name": "stdout",
     "output_type": "stream",
     "text": [
      "\n",
      "Label Encoded DataFrame:\n",
      "   Color  Size\n",
      "0      2     2\n",
      "1      1     1\n",
      "2      0     0\n",
      "3      1     1\n",
      "4      2     2\n"
     ]
    }
   ],
   "source": [
    "from sklearn.preprocessing import LabelEncoder\n",
    "\n",
    "# Applying Label Encoding\n",
    "label_encoder = LabelEncoder()\n",
    "df['Color'] = label_encoder.fit_transform(df['Color'])\n",
    "df['Size'] = label_encoder.fit_transform(df['Size'])\n",
    "print(\"\\nLabel Encoded DataFrame:\")\n",
    "print(df)\n"
   ]
  },
  {
   "cell_type": "code",
   "execution_count": 18,
   "id": "bc0600a4-af85-4fe6-b09f-53c477be6667",
   "metadata": {},
   "outputs": [
    {
     "name": "stdout",
     "output_type": "stream",
     "text": [
      "Original DataFrame:\n",
      "   Age  Income  Gender Purchased\n",
      "0   25   50000    Male        No\n",
      "1   45  100000  Female       Yes\n",
      "2   35   75000  Female       Yes\n",
      "3   50  120000    Male        No\n",
      "4   23   40000    Male       Yes\n"
     ]
    }
   ],
   "source": [
    "import pandas as pd\n",
    "\n",
    "# Creating a sample DataFrame\n",
    "data = {\n",
    "    'Age': [25, 45, 35, 50, 23],\n",
    "    'Income': [50000, 100000, 75000, 120000, 40000],\n",
    "    'Gender': ['Male', 'Female', 'Female', 'Male', 'Male'],\n",
    "    'Purchased': ['No', 'Yes', 'Yes', 'No', 'Yes']\n",
    "}\n",
    "\n",
    "df = pd.DataFrame(data)\n",
    "print(\"Original DataFrame:\")\n",
    "print(df)\n"
   ]
  },
  {
   "cell_type": "code",
   "execution_count": 19,
   "id": "3849d3fa-a5c6-4e2b-a1cc-bc98468de4d5",
   "metadata": {},
   "outputs": [
    {
     "name": "stdout",
     "output_type": "stream",
     "text": [
      "\n",
      "DataFrame after Label Encoding:\n",
      "   Age  Income  Gender  Purchased\n",
      "0   25   50000       1          0\n",
      "1   45  100000       0          1\n",
      "2   35   75000       0          1\n",
      "3   50  120000       1          0\n",
      "4   23   40000       1          1\n"
     ]
    }
   ],
   "source": [
    "# Encoding categorical variables\n",
    "df['Gender'] = label_encoder.fit_transform(df['Gender'])\n",
    "df['Purchased'] = label_encoder.fit_transform(df['Purchased'])\n",
    "print(\"\\nDataFrame after Label Encoding:\")\n",
    "print(df)\n"
   ]
  },
  {
   "cell_type": "code",
   "execution_count": 20,
   "id": "2a8e0696-3332-42d9-acf0-89b30619bd6b",
   "metadata": {},
   "outputs": [
    {
     "name": "stdout",
     "output_type": "stream",
     "text": [
      "\n",
      "DataFrame after Scaling:\n",
      "        Age  Income  Gender  Purchased\n",
      "0  0.074074  0.1250       1          0\n",
      "1  0.814815  0.7500       0          1\n",
      "2  0.444444  0.4375       0          1\n",
      "3  1.000000  1.0000       1          0\n",
      "4  0.000000  0.0000       1          1\n"
     ]
    }
   ],
   "source": [
    "# Applying Min-Max Scaling\n",
    "scaler = MinMaxScaler()\n",
    "df[['Age', 'Income']] = scaler.fit_transform(df[['Age', 'Income']])\n",
    "print(\"\\nDataFrame after Scaling:\")\n",
    "print(df)\n"
   ]
  },
  {
   "cell_type": "code",
   "execution_count": 21,
   "id": "7c41c2dd-ae23-4016-8520-b51600dba586",
   "metadata": {},
   "outputs": [
    {
     "name": "stdout",
     "output_type": "stream",
     "text": [
      "\n",
      "Final Prepared DataFrame:\n",
      "        Age  Income  Gender  Purchased\n",
      "0  0.074074  0.1250       1          0\n",
      "1  0.814815  0.7500       0          1\n",
      "2  0.444444  0.4375       0          1\n",
      "3  1.000000  1.0000       1          0\n",
      "4  0.000000  0.0000       1          1\n"
     ]
    }
   ],
   "source": [
    "print(\"\\nFinal Prepared DataFrame:\")\n",
    "print(df)"
   ]
  },
  {
   "cell_type": "code",
   "execution_count": null,
   "id": "185bc224-21ee-49bd-8092-5224af4180b0",
   "metadata": {},
   "outputs": [],
   "source": []
  }
 ],
 "metadata": {
  "kernelspec": {
   "display_name": "Python 3 (ipykernel)",
   "language": "python",
   "name": "python3"
  },
  "language_info": {
   "codemirror_mode": {
    "name": "ipython",
    "version": 3
   },
   "file_extension": ".py",
   "mimetype": "text/x-python",
   "name": "python",
   "nbconvert_exporter": "python",
   "pygments_lexer": "ipython3",
   "version": "3.9.13"
  }
 },
 "nbformat": 4,
 "nbformat_minor": 5
}
