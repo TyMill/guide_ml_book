{
 "cells": [
  {
   "cell_type": "code",
   "execution_count": 1,
   "id": "a758a2bf-4c90-47d9-8950-e37558d5ac4d",
   "metadata": {},
   "outputs": [
    {
     "name": "stdout",
     "output_type": "stream",
     "text": [
      "      Name  Age         City\n",
      "0    Alice   24     New York\n",
      "1      Bob   27  Los Angeles\n",
      "2  Charlie   22      Chicago\n",
      "3    David   32      Houston\n"
     ]
    }
   ],
   "source": [
    "import pandas as pd\n",
    "\n",
    "data = {\n",
    "    'Name': ['Alice', 'Bob', 'Charlie', 'David'],\n",
    "    'Age': [24, 27, 22, 32],\n",
    "    'City': ['New York', 'Los Angeles', 'Chicago', 'Houston']\n",
    "}\n",
    "\n",
    "df = pd.DataFrame(data)\n",
    "print(df)"
   ]
  },
  {
   "cell_type": "code",
   "execution_count": 2,
   "id": "35ef4db5-19a5-4e2a-a0a8-496106f6a985",
   "metadata": {},
   "outputs": [
    {
     "name": "stdout",
     "output_type": "stream",
     "text": [
      "      Name  Age         City\n",
      "0    Alice   24     New York\n",
      "1      Bob   27  Los Angeles\n",
      "2  Charlie   22      Chicago\n",
      "3    David   32      Houston\n"
     ]
    }
   ],
   "source": [
    "data = [\n",
    "    {'Name': 'Alice', 'Age': 24, 'City': 'New York'},\n",
    "    {'Name': 'Bob', 'Age': 27, 'City': 'Los Angeles'},\n",
    "    {'Name': 'Charlie', 'Age': 22, 'City': 'Chicago'},\n",
    "    {'Name': 'David', 'Age': 32, 'City': 'Houston'}\n",
    "]\n",
    "\n",
    "df = pd.DataFrame(data)\n",
    "print(df)"
   ]
  },
  {
   "cell_type": "code",
   "execution_count": 3,
   "id": "700c476e-d5d6-45b0-8a42-fe7095ae0ddb",
   "metadata": {},
   "outputs": [
    {
     "name": "stdout",
     "output_type": "stream",
     "text": [
      "      Name Age         City\n",
      "0    Alice  24     New York\n",
      "1      Bob  27  Los Angeles\n",
      "2  Charlie  22      Chicago\n",
      "3    David  32      Houston\n"
     ]
    }
   ],
   "source": [
    "import numpy as np\n",
    "\n",
    "data = np.array([\n",
    "    ['Alice', 24, 'New York'],\n",
    "    ['Bob', 27, 'Los Angeles'],\n",
    "    ['Charlie', 22, 'Chicago'],\n",
    "    ['David', 32, 'Houston']\n",
    "])\n",
    "\n",
    "df = pd.DataFrame(data, columns=['Name', 'Age', 'City'])\n",
    "print(df)\n"
   ]
  },
  {
   "cell_type": "code",
   "execution_count": 4,
   "id": "feda1a76-fb75-46f9-98b9-f3fff21e5d27",
   "metadata": {},
   "outputs": [
    {
     "name": "stdout",
     "output_type": "stream",
     "text": [
      "      Name Age         City  Salary\n",
      "0    Alice  24     New York   50000\n",
      "1      Bob  27  Los Angeles   60000\n",
      "2  Charlie  22      Chicago   45000\n",
      "3    David  32      Houston   70000\n"
     ]
    }
   ],
   "source": [
    "df['Salary'] = [50000, 60000, 45000, 70000]\n",
    "print(df)"
   ]
  },
  {
   "cell_type": "code",
   "execution_count": 5,
   "id": "ccd8a2e7-5c94-455c-902c-183dc76a6b56",
   "metadata": {},
   "outputs": [
    {
     "name": "stdout",
     "output_type": "stream",
     "text": [
      "      Name Age         City\n",
      "0    Alice  24     New York\n",
      "1      Bob  27  Los Angeles\n",
      "2  Charlie  22      Chicago\n",
      "3    David  32      Houston\n"
     ]
    }
   ],
   "source": [
    "df.drop('Salary', axis=1, inplace=True)\n",
    "print(df)"
   ]
  },
  {
   "cell_type": "code",
   "execution_count": 6,
   "id": "845226db-43c9-4715-b595-5b83af7d6b7f",
   "metadata": {},
   "outputs": [
    {
     "name": "stdout",
     "output_type": "stream",
     "text": [
      "         Name Age      City\n",
      "count       4   4         4\n",
      "unique      4   4         4\n",
      "top     Alice  24  New York\n",
      "freq        1   1         1\n"
     ]
    }
   ],
   "source": [
    "print(df.describe())"
   ]
  },
  {
   "cell_type": "code",
   "execution_count": 8,
   "id": "1e1d3410-56b7-4f55-bf58-590ac7906203",
   "metadata": {},
   "outputs": [
    {
     "name": "stdout",
     "output_type": "stream",
     "text": [
      "24272232\n",
      "26.25\n",
      "25.5\n"
     ]
    }
   ],
   "source": [
    "print(df['Age'].sum())\n",
    "print(df['Age'].astype(int).mean())\n",
    "print(df['Age'].astype(int).median())"
   ]
  },
  {
   "cell_type": "code",
   "execution_count": 9,
   "id": "0ba4fa36-d13d-4cf8-b695-33d370600d0d",
   "metadata": {},
   "outputs": [
    {
     "name": "stdout",
     "output_type": "stream",
     "text": [
      "  Full Name Age     Location\n",
      "0     Alice  24     New York\n",
      "1       Bob  27  Los Angeles\n",
      "2   Charlie  22      Chicago\n",
      "3     David  32      Houston\n"
     ]
    }
   ],
   "source": [
    "df.rename(columns={'Name': 'Full Name', 'City': 'Location'}, inplace=True)\n",
    "print(df)"
   ]
  },
  {
   "cell_type": "code",
   "execution_count": 10,
   "id": "a99ea18a-f76d-4fc4-a448-40a2ed3da81f",
   "metadata": {},
   "outputs": [
    {
     "name": "stdout",
     "output_type": "stream",
     "text": [
      "0      Alice\n",
      "1        Bob\n",
      "2    Charlie\n",
      "3      David\n",
      "Name: Full Name, dtype: object\n"
     ]
    }
   ],
   "source": [
    "names = df['Full Name']\n",
    "print(names)"
   ]
  },
  {
   "cell_type": "code",
   "execution_count": 11,
   "id": "da66dbf8-92e3-4118-bfb5-1d12d1d0db17",
   "metadata": {},
   "outputs": [
    {
     "name": "stdout",
     "output_type": "stream",
     "text": [
      "  Full Name     Location\n",
      "0     Alice     New York\n",
      "1       Bob  Los Angeles\n",
      "2   Charlie      Chicago\n",
      "3     David      Houston\n"
     ]
    }
   ],
   "source": [
    "subset = df[['Full Name', 'Location']]\n",
    "print(subset)"
   ]
  },
  {
   "cell_type": "code",
   "execution_count": 12,
   "id": "08454f47-b2b5-4241-8c5e-97bdcea905b6",
   "metadata": {},
   "outputs": [
    {
     "name": "stdout",
     "output_type": "stream",
     "text": [
      "  Full Name Age     Location\n",
      "0     Alice  24     New York\n",
      "1       Bob  27  Los Angeles\n",
      "2   Charlie  22      Chicago\n"
     ]
    }
   ],
   "source": [
    "young_people = df[df['Age'].astype(int) < 30]\n",
    "print(young_people)"
   ]
  },
  {
   "cell_type": "code",
   "execution_count": 13,
   "id": "552ba248-eecb-4e0f-909a-455c284f4124",
   "metadata": {},
   "outputs": [
    {
     "name": "stdout",
     "output_type": "stream",
     "text": [
      "  Full Name Age  Location\n",
      "0     Alice  24  New York\n"
     ]
    }
   ],
   "source": [
    "people_in_ny = df.query(\"Location == 'New York'\")\n",
    "print(people_in_ny)\n"
   ]
  },
  {
   "cell_type": "code",
   "execution_count": 14,
   "id": "2a9c22e6-728c-47f3-bc7f-9205373e08a0",
   "metadata": {},
   "outputs": [
    {
     "name": "stdout",
     "output_type": "stream",
     "text": [
      "Full Name       Alice\n",
      "Age                24\n",
      "Location     New York\n",
      "Name: 0, dtype: object\n",
      "  Full Name Age\n",
      "0     Alice  24\n",
      "1       Bob  27\n",
      "2   Charlie  22\n"
     ]
    }
   ],
   "source": [
    "row = df.loc[0]\n",
    "print(row)\n",
    "\n",
    "subset = df.loc[0:2, ['Full Name', 'Age']]\n",
    "print(subset)"
   ]
  },
  {
   "cell_type": "code",
   "execution_count": 15,
   "id": "465082cd-723b-46f3-b003-dbcd7d5cd76a",
   "metadata": {},
   "outputs": [
    {
     "name": "stdout",
     "output_type": "stream",
     "text": [
      "Full Name            Bob\n",
      "Age                   27\n",
      "Location     Los Angeles\n",
      "Name: 1, dtype: object\n",
      "  Full Name Age\n",
      "0     Alice  24\n",
      "1       Bob  27\n"
     ]
    }
   ],
   "source": [
    "row = df.iloc[1]\n",
    "print(row)\n",
    "\n",
    "subset = df.iloc[0:2, 0:2]\n",
    "print(subset)"
   ]
  },
  {
   "cell_type": "code",
   "execution_count": 16,
   "id": "8d36d793-4b9f-4acb-bbb6-2893ea5c2e42",
   "metadata": {},
   "outputs": [
    {
     "name": "stdout",
     "output_type": "stream",
     "text": [
      "Initial DataFrame:\n",
      "      Name  Age         City  Salary\n",
      "0    Alice   24     New York   50000\n",
      "1      Bob   27  Los Angeles   60000\n",
      "2  Charlie   22      Chicago   45000\n",
      "3    David   32      Houston   70000\n",
      "4      Eva   28      Phoenix   65000\n",
      "\n",
      "DataFrame after adding Bonus column:\n",
      "      Name  Age         City  Salary   Bonus\n",
      "0    Alice   24     New York   50000  5000.0\n",
      "1      Bob   27  Los Angeles   60000  6000.0\n",
      "2  Charlie   22      Chicago   45000  4500.0\n",
      "3    David   32      Houston   70000  7000.0\n",
      "4      Eva   28      Phoenix   65000  6500.0\n"
     ]
    }
   ],
   "source": [
    "import pandas as pd\n",
    "\n",
    "# Creating a DataFrame\n",
    "data = {\n",
    "    'Name': ['Alice', 'Bob', 'Charlie', 'David', 'Eva'],\n",
    "    'Age': [24, 27, 22, 32, 28],\n",
    "    'City': ['New York', 'Los Angeles', 'Chicago', 'Houston', 'Phoenix'],\n",
    "    'Salary': [50000, 60000, 45000, 70000, 65000]\n",
    "}\n",
    "\n",
    "df = pd.DataFrame(data)\n",
    "print(\"Initial DataFrame:\")\n",
    "print(df)\n",
    "\n",
    "# Adding a new column\n",
    "df['Bonus'] = df['Salary'] * 0.1\n",
    "print(\"\\nDataFrame after adding Bonus column:\")\n",
    "print(df)"
   ]
  },
  {
   "cell_type": "code",
   "execution_count": 17,
   "id": "4720606c-4696-483d-999b-40a134887fc5",
   "metadata": {},
   "outputs": [
    {
     "name": "stdout",
     "output_type": "stream",
     "text": [
      "\n",
      "DataFrame after renaming columns:\n",
      "  Employee Name  Age City of Residence  Salary   Bonus\n",
      "0         Alice   24          New York   50000  5000.0\n",
      "1           Bob   27       Los Angeles   60000  6000.0\n",
      "2       Charlie   22           Chicago   45000  4500.0\n",
      "3         David   32           Houston   70000  7000.0\n",
      "4           Eva   28           Phoenix   65000  6500.0\n",
      "\n",
      "Employees with Salary greater than 55000:\n",
      "  Employee Name  Age City of Residence  Salary   Bonus\n",
      "1           Bob   27       Los Angeles   60000  6000.0\n",
      "3         David   32           Houston   70000  7000.0\n",
      "4           Eva   28           Phoenix   65000  6500.0\n",
      "\n",
      "Selected columns (Employee Name, Age, Bonus):\n",
      "  Employee Name  Age   Bonus\n",
      "0         Alice   24  5000.0\n",
      "1           Bob   27  6000.0\n",
      "2       Charlie   22  4500.0\n",
      "3         David   32  7000.0\n",
      "4           Eva   28  6500.0\n",
      "\n",
      "Average Age: 26.6\n",
      "Total Salary: 290000\n"
     ]
    }
   ],
   "source": [
    "# Renaming columns\n",
    "df.rename(columns={'Name': 'Employee Name', 'City': 'City of Residence'}, inplace=True)\n",
    "print(\"\\nDataFrame after renaming columns:\")\n",
    "print(df)\n",
    "\n",
    "# Filtering data\n",
    "high_salary = df[df['Salary'] > 55000]\n",
    "print(\"\\nEmployees with Salary greater than 55000:\")\n",
    "print(high_salary)\n",
    "\n",
    "# Selecting specific columns\n",
    "selected_columns = df[['Employee Name', 'Age', 'Bonus']]\n",
    "print(\"\\nSelected columns (Employee Name, Age, Bonus):\")\n",
    "print(selected_columns)\n",
    "\n",
    "# Basic statistics\n",
    "average_age = df['Age'].mean()\n",
    "total_salary = df['Salary'].sum()\n",
    "print(f\"\\nAverage Age: {average_age}\")\n",
    "print(f\"Total Salary: {total_salary}\")"
   ]
  },
  {
   "cell_type": "code",
   "execution_count": null,
   "id": "561a282a-d37c-4bdb-a880-09568a27e25b",
   "metadata": {},
   "outputs": [],
   "source": []
  }
 ],
 "metadata": {
  "kernelspec": {
   "display_name": "Python 3 (ipykernel)",
   "language": "python",
   "name": "python3"
  },
  "language_info": {
   "codemirror_mode": {
    "name": "ipython",
    "version": 3
   },
   "file_extension": ".py",
   "mimetype": "text/x-python",
   "name": "python",
   "nbconvert_exporter": "python",
   "pygments_lexer": "ipython3",
   "version": "3.9.13"
  }
 },
 "nbformat": 4,
 "nbformat_minor": 5
}
